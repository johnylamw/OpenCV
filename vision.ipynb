{
 "cells": [
  {
   "cell_type": "code",
   "execution_count": 3,
   "metadata": {},
   "outputs": [
    {
     "name": "stdout",
     "output_type": "stream",
     "text": [
      "Original Dimensions: (2324, 1860, 3)\n"
     ]
    }
   ],
   "source": [
    "import cv2\n",
    "path = \"images/dog.jpg\"\n",
    "img = cv2.imread(path, 1) # image is 1860 x 2324\n",
    "print('Original Dimensions:', img.shape)"
   ]
  },
  {
   "cell_type": "code",
   "execution_count": 4,
   "metadata": {},
   "outputs": [
    {
     "name": "stdout",
     "output_type": "stream",
     "text": [
      "Resized Dimensions w/ Scaling of 0.25%: (581, 465, 3)\n"
     ]
    }
   ],
   "source": [
    "# rescale the image\n",
    "scale_percent = 0.25 # scales by 25%\n",
    "width = int(img.shape[1] * scale_percent)\n",
    "height = int(img.shape[0] * scale_percent)\n",
    "dimension = (width, height)\n",
    "\n",
    "# cv2.INTER_AREA is used for shrinking the image (INTER_LINEAR or INTER_CUBIC for enlarging the image)\n",
    "resized_img = cv2.resize(img, dimension, interpolation= cv2.INTER_AREA)\n",
    "\n",
    "print(f'Resized Dimensions w/ Scaling of {scale_percent}%:', resized_img.shape)"
   ]
  },
  {
   "cell_type": "code",
   "execution_count": 7,
   "metadata": {},
   "outputs": [],
   "source": [
    "# Display the image\n",
    "cv2.imshow('Image', resized_img)\n",
    "cv2.waitKey(0)\n",
    "cv2.destroyAllWindows()"
   ]
  },
  {
   "cell_type": "markdown",
   "metadata": {},
   "source": []
  }
 ],
 "metadata": {
  "kernelspec": {
   "display_name": "Python 3.11.0 64-bit",
   "language": "python",
   "name": "python3"
  },
  "language_info": {
   "codemirror_mode": {
    "name": "ipython",
    "version": 3
   },
   "file_extension": ".py",
   "mimetype": "text/x-python",
   "name": "python",
   "nbconvert_exporter": "python",
   "pygments_lexer": "ipython3",
   "version": "3.11.0"
  },
  "orig_nbformat": 4,
  "vscode": {
   "interpreter": {
    "hash": "5d2153ae9efd6698b5c486e3571acec64094c351b248fb4a367eacfb0a01ee55"
   }
  }
 },
 "nbformat": 4,
 "nbformat_minor": 2
}
